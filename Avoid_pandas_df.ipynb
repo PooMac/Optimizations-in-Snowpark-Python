{
 "cells": [
  {
   "cell_type": "markdown",
   "id": "01d517a2-32d1-4d31-8111-a32a8e38752a",
   "metadata": {},
   "source": [
    "# Snowpark - Why to avoid Pandas Dataframe\n"
   ]
  },
  {
   "attachments": {},
   "cell_type": "markdown",
   "id": "1d5186c9-f88c-46d2-8322-ea0d17569578",
   "metadata": {},
   "source": [
    "By comparing the execution times of Pandas dataframes and Snowpark dataframes on the same dataset, it is possible to analyze the performance differences between these two approaches. "
   ]
  },
  {
   "cell_type": "code",
   "execution_count": 2,
   "id": "d7439fe1-3662-47d5-b92f-86247d144e70",
   "metadata": {},
   "outputs": [
    {
     "name": "stderr",
     "output_type": "stream",
     "text": [
      "/opt/homebrew/lib/python3.8/site-packages/requests/__init__.py:102: RequestsDependencyWarning: urllib3 (1.26.9) or chardet (5.1.0)/charset_normalizer (2.0.12) doesn't match a supported version!\n",
      "  warnings.warn(\"urllib3 ({}) or chardet ({})/charset_normalizer ({}) doesn't match a supported \"\n"
     ]
    },
    {
     "name": "stdout",
     "output_type": "stream",
     "text": [
      "[Row(CURRENT_ROLE()='POLARSLED_SQLSERVER', CURRENT_WAREHOUSE()='COE_PRACTISE_WH', CURRENT_DATABASE()='SQLSERVER_DEV', CURRENT_SCHEMA()='SNOWPARK_TEST')]\n"
     ]
    }
   ],
   "source": [
    "# Import required libraries\n",
    "# Snowpark\n",
    "from snowflake.snowpark.functions import sproc\n",
    "from snowflake.snowpark.session import Session\n",
    "from snowflake.snowpark import version as v\n",
    "import json\n",
    "\n",
    "import pandas as pd\n",
    "import numpy as np\n",
    "\n",
    "\n",
    "with open('credentials.json') as f:\n",
    "    connection_parameters = json.load(f)\n",
    "    \n",
    "session = Session.builder.configs(connection_parameters).create()\n",
    "print(session.sql('select current_role(),current_warehouse(), current_database(), current_schema()').collect())\n",
    "\n",
    "session.add_packages('snowflake-snowpark-python', 'pandas', 'numpy')"
   ]
  },
  {
   "cell_type": "code",
   "execution_count": 5,
   "id": "edfa7901",
   "metadata": {},
   "outputs": [
    {
     "data": {
      "text/plain": [
       "[Row(status='Stage area TEST_STAGE successfully created.')]"
      ]
     },
     "execution_count": 5,
     "metadata": {},
     "output_type": "execute_result"
    }
   ],
   "source": [
    "session.sql('create stage test_stage;').collect()"
   ]
  },
  {
   "attachments": {},
   "cell_type": "markdown",
   "id": "50f522d7-d34b-4092-a8e7-1b3bbc2d0fe3",
   "metadata": {},
   "source": [
    "Create Stored Procedure to remove duplicates using Snowpark Dataframe and analyse how SQL is run in your Snowflake account."
   ]
  },
  {
   "cell_type": "code",
   "execution_count": 7,
   "id": "736814fc-d0b0-4b7e-848f-f396d5491af2",
   "metadata": {},
   "outputs": [
    {
     "name": "stdout",
     "output_type": "stream",
     "text": [
      "CPU times: user 164 ms, sys: 8.54 ms, total: 172 ms\n",
      "Wall time: 22.1 s\n"
     ]
    },
    {
     "data": {
      "text/plain": [
       "[Row(WRITE_DISTINCT_DF_TO_TABLE='Table Created Sucessfully')]"
      ]
     },
     "execution_count": 7,
     "metadata": {},
     "output_type": "execute_result"
    }
   ],
   "source": [
    "%%time\n",
    "import snowflake.snowpark\n",
    "from snowflake.snowpark.functions import sproc\n",
    "\n",
    "@sproc(name=\"write_distinct_df_to_table\", is_permanent=True, stage_location=\"@test_stage\", replace=True, packages=[\"snowflake-snowpark-python\"])\n",
    "def write_distinct_df_to_table(session: snowflake.snowpark.Session, x: str) -> str:\n",
    "    lineitem_df = session.table('SFC_SAMPLES_SAMPLE_DATA.TPCH_SF1.LINEITEM')\n",
    "    lineitem_df = lineitem_df.dropDuplicates()\n",
    "    lineitem_df.write.mode(\"overwrite\").save_as_table(\"temp_lineitem\")\n",
    "    return 'Table Created Sucessfully'\n",
    "    \n",
    "session.sql(\"call write_distinct_df_to_table('test')\").collect()"
   ]
  },
  {
   "attachments": {},
   "cell_type": "markdown",
   "id": "d73c3f8b-9d5c-4e0d-a157-5ee7d1c3c8b1",
   "metadata": {},
   "source": [
    "Create a Stored Procedure to remove duplicates using Pandas Dataframe."
   ]
  },
  {
   "cell_type": "code",
   "execution_count": 8,
   "id": "601c1135-61a8-4021-a5ca-2b95d0b00262",
   "metadata": {},
   "outputs": [
    {
     "name": "stdout",
     "output_type": "stream",
     "text": [
      "CPU times: user 222 ms, sys: 15.5 ms, total: 237 ms\n",
      "Wall time: 2min 47s\n"
     ]
    },
    {
     "data": {
      "text/plain": [
       "[Row(WRITE_DISTINCT_DF_TO_TABLE='Table Created Sucessfully')]"
      ]
     },
     "execution_count": 8,
     "metadata": {},
     "output_type": "execute_result"
    }
   ],
   "source": [
    "%%time\n",
    "import snowflake.snowpark\n",
    "from snowflake.snowpark.functions import sproc\n",
    "\n",
    "session.add_packages(\"snowflake-snowpark-python\", \"pandas\")\n",
    "@sproc(name=\"write_distinct_df_to_table\", is_permanent=True, stage_location=\"@test_stage\", replace=True, packages=[\"snowflake-snowpark-python\"])\n",
    "def write_distinct_df_to_table(session: snowflake.snowpark.Session) -> str:\n",
    "    lineitem_df = session.table('SFC_SAMPLES_SAMPLE_DATA.TPCH_SF1.LINEITEM')\n",
    "    lineitem_pandasdf = lineitem_df.to_pandas()\n",
    "    lineitem_pandasdf = lineitem_pandasdf.drop_duplicates()\n",
    "    session.write_pandas(lineitem_pandasdf, \"temp_lineitem\", auto_create_table=True)\n",
    "    return 'Table Created Sucessfully'\n",
    "    \n",
    "session.sql(\"call write_distinct_df_to_table()\").collect()"
   ]
  },
  {
   "attachments": {},
   "cell_type": "markdown",
   "id": "a3690c22",
   "metadata": {},
   "source": [
    "## <b>Snowpark df is 8x faster than Pandas df.<b>"
   ]
  }
 ],
 "metadata": {
  "kernelspec": {
   "display_name": "Python 3 (ipykernel)",
   "language": "python",
   "name": "python3"
  },
  "language_info": {
   "codemirror_mode": {
    "name": "ipython",
    "version": 3
   },
   "file_extension": ".py",
   "mimetype": "text/x-python",
   "name": "python",
   "nbconvert_exporter": "python",
   "pygments_lexer": "ipython3",
   "version": "3.8.13"
  }
 },
 "nbformat": 4,
 "nbformat_minor": 5
}
